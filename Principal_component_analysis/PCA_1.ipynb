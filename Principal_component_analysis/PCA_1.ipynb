{
 "cells": [
  {
   "cell_type": "markdown",
   "metadata": {},
   "source": [
    "### Your Turn\n",
    "\n",
    "In the previous video, you saw an example of working with some MNIST digits data.  The MNIST dataset can be found here: http://yann.lecun.com/exdb/mnist/.\n",
    "\n",
    "First, let's import the necessary libraries.  Notice there are also some imports from a file called `helper_functions`, which contains the functions used in the previous video."
   ]
  },
  {
   "cell_type": "code",
   "execution_count": 1,
   "metadata": {},
   "outputs": [],
   "source": [
    "import pandas as pd\n",
    "import numpy as np\n",
    "from sklearn.decomposition import PCA\n",
    "from sklearn.preprocessing import StandardScaler\n",
    "from sklearn.ensemble import RandomForestClassifier\n",
    "from sklearn.model_selection import train_test_split\n",
    "from sklearn.metrics import confusion_matrix, accuracy_score\n",
    "from helper_functions import show_images, show_images_by_digit, fit_random_forest_classifier2 \n",
    "from helper_functions import fit_random_forest_classifier, do_pca, plot_components\n",
    "import test_code as t\n",
    "\n",
    "import matplotlib.image as mpimg\n",
    "import matplotlib.pyplot as plt\n",
    "import seaborn as sns\n",
    "\n",
    "%matplotlib inline"
   ]
  },
  {
   "cell_type": "markdown",
   "metadata": {},
   "source": [
    "`1.` Use pandas to read in the dataset, which can be found in this workspace using the filepath **'./data/train.csv'**.  If you have missing values, fill them with 0.  Take a look at info about the data using `head`, `tail`, `describe`, `info`, etc.  You can learn more about the data values from the article here: https://homepages.inf.ed.ac.uk/rbf/HIPR2/value.htm."
   ]
  },
  {
   "cell_type": "code",
   "execution_count": 4,
   "metadata": {},
   "outputs": [
    {
     "data": {
      "text/html": [
       "<div>\n",
       "<style scoped>\n",
       "    .dataframe tbody tr th:only-of-type {\n",
       "        vertical-align: middle;\n",
       "    }\n",
       "\n",
       "    .dataframe tbody tr th {\n",
       "        vertical-align: top;\n",
       "    }\n",
       "\n",
       "    .dataframe thead th {\n",
       "        text-align: right;\n",
       "    }\n",
       "</style>\n",
       "<table border=\"1\" class=\"dataframe\">\n",
       "  <thead>\n",
       "    <tr style=\"text-align: right;\">\n",
       "      <th></th>\n",
       "      <th>label</th>\n",
       "      <th>pixel0</th>\n",
       "      <th>pixel1</th>\n",
       "      <th>pixel2</th>\n",
       "      <th>pixel3</th>\n",
       "      <th>pixel4</th>\n",
       "      <th>pixel5</th>\n",
       "      <th>pixel6</th>\n",
       "      <th>pixel7</th>\n",
       "      <th>pixel8</th>\n",
       "      <th>...</th>\n",
       "      <th>pixel774</th>\n",
       "      <th>pixel775</th>\n",
       "      <th>pixel776</th>\n",
       "      <th>pixel777</th>\n",
       "      <th>pixel778</th>\n",
       "      <th>pixel779</th>\n",
       "      <th>pixel780</th>\n",
       "      <th>pixel781</th>\n",
       "      <th>pixel782</th>\n",
       "      <th>pixel783</th>\n",
       "    </tr>\n",
       "  </thead>\n",
       "  <tbody>\n",
       "    <tr>\n",
       "      <th>count</th>\n",
       "      <td>6304.000000</td>\n",
       "      <td>6304.0</td>\n",
       "      <td>6304.0</td>\n",
       "      <td>6304.0</td>\n",
       "      <td>6304.0</td>\n",
       "      <td>6304.0</td>\n",
       "      <td>6304.0</td>\n",
       "      <td>6304.0</td>\n",
       "      <td>6304.0</td>\n",
       "      <td>6304.0</td>\n",
       "      <td>...</td>\n",
       "      <td>6304.000000</td>\n",
       "      <td>6304.000000</td>\n",
       "      <td>6304.000000</td>\n",
       "      <td>6304.0</td>\n",
       "      <td>6304.0</td>\n",
       "      <td>6304.0</td>\n",
       "      <td>6304.0</td>\n",
       "      <td>6304.0</td>\n",
       "      <td>6304.0</td>\n",
       "      <td>6304.0</td>\n",
       "    </tr>\n",
       "    <tr>\n",
       "      <th>mean</th>\n",
       "      <td>4.440355</td>\n",
       "      <td>0.0</td>\n",
       "      <td>0.0</td>\n",
       "      <td>0.0</td>\n",
       "      <td>0.0</td>\n",
       "      <td>0.0</td>\n",
       "      <td>0.0</td>\n",
       "      <td>0.0</td>\n",
       "      <td>0.0</td>\n",
       "      <td>0.0</td>\n",
       "      <td>...</td>\n",
       "      <td>0.139594</td>\n",
       "      <td>0.142291</td>\n",
       "      <td>0.026967</td>\n",
       "      <td>0.0</td>\n",
       "      <td>0.0</td>\n",
       "      <td>0.0</td>\n",
       "      <td>0.0</td>\n",
       "      <td>0.0</td>\n",
       "      <td>0.0</td>\n",
       "      <td>0.0</td>\n",
       "    </tr>\n",
       "    <tr>\n",
       "      <th>std</th>\n",
       "      <td>2.885613</td>\n",
       "      <td>0.0</td>\n",
       "      <td>0.0</td>\n",
       "      <td>0.0</td>\n",
       "      <td>0.0</td>\n",
       "      <td>0.0</td>\n",
       "      <td>0.0</td>\n",
       "      <td>0.0</td>\n",
       "      <td>0.0</td>\n",
       "      <td>0.0</td>\n",
       "      <td>...</td>\n",
       "      <td>5.099940</td>\n",
       "      <td>5.531089</td>\n",
       "      <td>1.675547</td>\n",
       "      <td>0.0</td>\n",
       "      <td>0.0</td>\n",
       "      <td>0.0</td>\n",
       "      <td>0.0</td>\n",
       "      <td>0.0</td>\n",
       "      <td>0.0</td>\n",
       "      <td>0.0</td>\n",
       "    </tr>\n",
       "    <tr>\n",
       "      <th>min</th>\n",
       "      <td>0.000000</td>\n",
       "      <td>0.0</td>\n",
       "      <td>0.0</td>\n",
       "      <td>0.0</td>\n",
       "      <td>0.0</td>\n",
       "      <td>0.0</td>\n",
       "      <td>0.0</td>\n",
       "      <td>0.0</td>\n",
       "      <td>0.0</td>\n",
       "      <td>0.0</td>\n",
       "      <td>...</td>\n",
       "      <td>0.000000</td>\n",
       "      <td>0.000000</td>\n",
       "      <td>0.000000</td>\n",
       "      <td>0.0</td>\n",
       "      <td>0.0</td>\n",
       "      <td>0.0</td>\n",
       "      <td>0.0</td>\n",
       "      <td>0.0</td>\n",
       "      <td>0.0</td>\n",
       "      <td>0.0</td>\n",
       "    </tr>\n",
       "    <tr>\n",
       "      <th>25%</th>\n",
       "      <td>2.000000</td>\n",
       "      <td>0.0</td>\n",
       "      <td>0.0</td>\n",
       "      <td>0.0</td>\n",
       "      <td>0.0</td>\n",
       "      <td>0.0</td>\n",
       "      <td>0.0</td>\n",
       "      <td>0.0</td>\n",
       "      <td>0.0</td>\n",
       "      <td>0.0</td>\n",
       "      <td>...</td>\n",
       "      <td>0.000000</td>\n",
       "      <td>0.000000</td>\n",
       "      <td>0.000000</td>\n",
       "      <td>0.0</td>\n",
       "      <td>0.0</td>\n",
       "      <td>0.0</td>\n",
       "      <td>0.0</td>\n",
       "      <td>0.0</td>\n",
       "      <td>0.0</td>\n",
       "      <td>0.0</td>\n",
       "    </tr>\n",
       "    <tr>\n",
       "      <th>50%</th>\n",
       "      <td>4.000000</td>\n",
       "      <td>0.0</td>\n",
       "      <td>0.0</td>\n",
       "      <td>0.0</td>\n",
       "      <td>0.0</td>\n",
       "      <td>0.0</td>\n",
       "      <td>0.0</td>\n",
       "      <td>0.0</td>\n",
       "      <td>0.0</td>\n",
       "      <td>0.0</td>\n",
       "      <td>...</td>\n",
       "      <td>0.000000</td>\n",
       "      <td>0.000000</td>\n",
       "      <td>0.000000</td>\n",
       "      <td>0.0</td>\n",
       "      <td>0.0</td>\n",
       "      <td>0.0</td>\n",
       "      <td>0.0</td>\n",
       "      <td>0.0</td>\n",
       "      <td>0.0</td>\n",
       "      <td>0.0</td>\n",
       "    </tr>\n",
       "    <tr>\n",
       "      <th>75%</th>\n",
       "      <td>7.000000</td>\n",
       "      <td>0.0</td>\n",
       "      <td>0.0</td>\n",
       "      <td>0.0</td>\n",
       "      <td>0.0</td>\n",
       "      <td>0.0</td>\n",
       "      <td>0.0</td>\n",
       "      <td>0.0</td>\n",
       "      <td>0.0</td>\n",
       "      <td>0.0</td>\n",
       "      <td>...</td>\n",
       "      <td>0.000000</td>\n",
       "      <td>0.000000</td>\n",
       "      <td>0.000000</td>\n",
       "      <td>0.0</td>\n",
       "      <td>0.0</td>\n",
       "      <td>0.0</td>\n",
       "      <td>0.0</td>\n",
       "      <td>0.0</td>\n",
       "      <td>0.0</td>\n",
       "      <td>0.0</td>\n",
       "    </tr>\n",
       "    <tr>\n",
       "      <th>max</th>\n",
       "      <td>9.000000</td>\n",
       "      <td>0.0</td>\n",
       "      <td>0.0</td>\n",
       "      <td>0.0</td>\n",
       "      <td>0.0</td>\n",
       "      <td>0.0</td>\n",
       "      <td>0.0</td>\n",
       "      <td>0.0</td>\n",
       "      <td>0.0</td>\n",
       "      <td>0.0</td>\n",
       "      <td>...</td>\n",
       "      <td>253.000000</td>\n",
       "      <td>253.000000</td>\n",
       "      <td>130.000000</td>\n",
       "      <td>0.0</td>\n",
       "      <td>0.0</td>\n",
       "      <td>0.0</td>\n",
       "      <td>0.0</td>\n",
       "      <td>0.0</td>\n",
       "      <td>0.0</td>\n",
       "      <td>0.0</td>\n",
       "    </tr>\n",
       "  </tbody>\n",
       "</table>\n",
       "<p>8 rows × 785 columns</p>\n",
       "</div>"
      ],
      "text/plain": [
       "             label  pixel0  pixel1  pixel2  pixel3  pixel4  pixel5  pixel6  \\\n",
       "count  6304.000000  6304.0  6304.0  6304.0  6304.0  6304.0  6304.0  6304.0   \n",
       "mean      4.440355     0.0     0.0     0.0     0.0     0.0     0.0     0.0   \n",
       "std       2.885613     0.0     0.0     0.0     0.0     0.0     0.0     0.0   \n",
       "min       0.000000     0.0     0.0     0.0     0.0     0.0     0.0     0.0   \n",
       "25%       2.000000     0.0     0.0     0.0     0.0     0.0     0.0     0.0   \n",
       "50%       4.000000     0.0     0.0     0.0     0.0     0.0     0.0     0.0   \n",
       "75%       7.000000     0.0     0.0     0.0     0.0     0.0     0.0     0.0   \n",
       "max       9.000000     0.0     0.0     0.0     0.0     0.0     0.0     0.0   \n",
       "\n",
       "       pixel7  pixel8    ...        pixel774     pixel775     pixel776  \\\n",
       "count  6304.0  6304.0    ...     6304.000000  6304.000000  6304.000000   \n",
       "mean      0.0     0.0    ...        0.139594     0.142291     0.026967   \n",
       "std       0.0     0.0    ...        5.099940     5.531089     1.675547   \n",
       "min       0.0     0.0    ...        0.000000     0.000000     0.000000   \n",
       "25%       0.0     0.0    ...        0.000000     0.000000     0.000000   \n",
       "50%       0.0     0.0    ...        0.000000     0.000000     0.000000   \n",
       "75%       0.0     0.0    ...        0.000000     0.000000     0.000000   \n",
       "max       0.0     0.0    ...      253.000000   253.000000   130.000000   \n",
       "\n",
       "       pixel777  pixel778  pixel779  pixel780  pixel781  pixel782  pixel783  \n",
       "count    6304.0    6304.0    6304.0    6304.0    6304.0    6304.0    6304.0  \n",
       "mean        0.0       0.0       0.0       0.0       0.0       0.0       0.0  \n",
       "std         0.0       0.0       0.0       0.0       0.0       0.0       0.0  \n",
       "min         0.0       0.0       0.0       0.0       0.0       0.0       0.0  \n",
       "25%         0.0       0.0       0.0       0.0       0.0       0.0       0.0  \n",
       "50%         0.0       0.0       0.0       0.0       0.0       0.0       0.0  \n",
       "75%         0.0       0.0       0.0       0.0       0.0       0.0       0.0  \n",
       "max         0.0       0.0       0.0       0.0       0.0       0.0       0.0  \n",
       "\n",
       "[8 rows x 785 columns]"
      ]
     },
     "execution_count": 4,
     "metadata": {},
     "output_type": "execute_result"
    }
   ],
   "source": [
    "train = pd.read_csv( './data/train.csv')\n",
    "train.fillna(0, inplace = True)\n",
    "train.head()\n",
    "train.describe()"
   ]
  },
  {
   "cell_type": "markdown",
   "metadata": {},
   "source": [
    "`2.` Create a vector called y that holds the **label** column of the dataset.  Store all other columns holding the pixel data of your images in X."
   ]
  },
  {
   "cell_type": "code",
   "execution_count": 5,
   "metadata": {},
   "outputs": [],
   "source": [
    "y = train['label']\n",
    "\n",
    "\n",
    "#store all other columns in X by just the label column+\n",
    "X = train.drop('label', axis=1) "
   ]
  },
  {
   "cell_type": "code",
   "execution_count": 6,
   "metadata": {},
   "outputs": [
    {
     "name": "stdout",
     "output_type": "stream",
     "text": [
      "That looks right!\n"
     ]
    }
   ],
   "source": [
    "#Check Your Solution \n",
    "t.question_two_check(y, X)"
   ]
  },
  {
   "cell_type": "markdown",
   "metadata": {},
   "source": [
    "`3.` Now use the `show_images_by_digit` function from the `helper_functions` module to take a look some of the `1`'s, `2`'s, `3`'s, or any other value you are interested in looking at.  Do they all look like what you would expect?"
   ]
  },
  {
   "cell_type": "code",
   "execution_count": 7,
   "metadata": {},
   "outputs": [
    {
     "name": "stderr",
     "output_type": "stream",
     "text": [
      "/home/workspace/helper_functions.py:63: FutureWarning: Method .as_matrix will be removed in a future version. Use .values instead.\n",
      "  mat_data = X.iloc[indices[0][digit_num]].as_matrix().reshape(28,28)  #reshape images\n"
     ]
    },
    {
     "data": {
      "image/png": "[encoded data removed]",
      "text/plain": [
       "<matplotlib.figure.Figure at 0x7ff9bef31d30>"
      ]
     },
     "metadata": {},
     "output_type": "display_data"
    }
   ],
   "source": [
    "show_images_by_digit(2) # Try looking at a few other digits"
   ]
  },
  {
   "cell_type": "markdown",
   "metadata": {},
   "source": [
    "`4.` Now that you have had a chance to look through some of the data, you can try some different algorithms to see what works well to use the X matrix to predict the response well.  If you would like to use the function I used in the video regarding random forests, you can run the code below, but you might also try any of the supervised techniques you learned in the previous course to see what works best.\n",
    "\n",
    "If you decide to put together your own classifier, remember the 4 steps to this process:\n",
    "\n",
    "**I.** Instantiate your model. (with all the hyperparameter values you care about)\n",
    "\n",
    "**II.** Fit your model. (to the training data)\n",
    "\n",
    "**III.** Predict using your fitted model.  (on the test data)\n",
    "\n",
    "**IV.** Score your model. (comparing the predictions to the actual values on the test data)\n",
    "\n",
    "You can also try a grid search to see if you can improve on your initial predictions."
   ]
  },
  {
   "cell_type": "code",
   "execution_count": 9,
   "metadata": {},
   "outputs": [
    {
     "name": "stdout",
     "output_type": "stream",
     "text": [
      "[[197   0   2   0   0   1   9   0   0   0]\n",
      " [  0 235   1   1   0   0   2   2   2   0]\n",
      " [  1   4 211   1   3   1   2   5   0   0]\n",
      " [  3   0   5 174   0   5   1   1   1   1]\n",
      " [  0   0   2   0 169   0   2   0   0   5]\n",
      " [  3   1   0   4   0 171   3   0   4   0]\n",
      " [  3   0   1   0   0   2 205   0   0   0]\n",
      " [  0   0   4   1   5   0   0 208   1   6]\n",
      " [  1   1   0   7   0   3   0   0 187   3]\n",
      " [  2   1   1   2  10   2   0   1   4 185]]\n",
      "0.933205189813\n"
     ]
    },
    {
     "data": {
      "text/plain": [
       "0.93320518981259015"
      ]
     },
     "execution_count": 9,
     "metadata": {},
     "output_type": "execute_result"
    }
   ],
   "source": [
    "# fit the RF model!\n",
    "fit_random_forest_classifier(X, y)\n"
   ]
  },
  {
   "cell_type": "markdown",
   "metadata": {},
   "source": [
    "`5.` Now for the purpose of this lesson, to look at PCA.  In the video, I created a model just using two features.  Replicate the process below. You can use the same `do_pca` function that was created in the previous video.  Store your variables in **pca** and **X_pca**."
   ]
  },
  {
   "cell_type": "code",
   "execution_count": 10,
   "metadata": {},
   "outputs": [],
   "source": [
    "pca, X_pca = do_pca(2, X)"
   ]
  },
  {
   "cell_type": "markdown",
   "metadata": {},
   "source": [
    "`6.` The **X_pca** has reduced the original number of more than 700 features down to only 2 features that capture the majority of the variability in the pixel values.  Use the space below to fit a model using these two features to predict the written value.  You can use the random forest model by running `fit_random_forest_classifier` the same way as in the video. How well does it perform?"
   ]
  },
  {
   "cell_type": "code",
   "execution_count": 12,
   "metadata": {},
   "outputs": [
    {
     "name": "stdout",
     "output_type": "stream",
     "text": [
      "[[107   0  41  10   7  13  23   0   8   0]\n",
      " [  0 208   0   4   2   6   5   5   8   5]\n",
      " [ 38   2  72  29  13  21  37   1  12   3]\n",
      " [ 11   2  37  21  20  24  24  14  24  14]\n",
      " [  5   4  17  19  52  16  16  12  11  26]\n",
      " [  7   8  32  23  16  19  30   5  35  11]\n",
      " [ 32   6  53  19   9  30  34   3  23   2]\n",
      " [  3   5   4   9  32   9   2  93   8  60]\n",
      " [  7   7  30  30  21  30  20   7  40  10]\n",
      " [  2  12   5  14  30  10   4  60  10  61]]\n",
      "0.33974050937\n"
     ]
    },
    {
     "data": {
      "text/plain": [
       "0.33974050937049494"
      ]
     },
     "execution_count": 12,
     "metadata": {},
     "output_type": "execute_result"
    }
   ],
   "source": [
    "fit_random_forest_classifier(X_pca, y)"
   ]
  },
  {
   "cell_type": "markdown",
   "metadata": {},
   "source": [
    "`7.` Now you can look at the separation of the values using the `plot_components` function.  If you plot all of the points (more than 40,000), you will likely not be able to see much of what is happening.  I recommend plotting just a subset of the data.  Which value(s) have some separation that are being predicted better than others based on these two components?"
   ]
  },
  {
   "cell_type": "code",
   "execution_count": 13,
   "metadata": {},
   "outputs": [
    {
     "data": {
      "image/png": "[encoded data removed]",
      "text/plain": [
       "<matplotlib.figure.Figure at 0x7ff9b40f8ac8>"
      ]
     },
     "metadata": {},
     "output_type": "display_data"
    }
   ],
   "source": [
    "# Try plotting some of the numbers below - you can change the number\n",
    "# of digits that are plotted, but it is probably best not to plot the \n",
    "# entire dataset. \n",
    "\n",
    "plot_components(X_pca[:100], y[:100])"
   ]
  },
  {
   "cell_type": "markdown",
   "metadata": {},
   "source": [
    "`8.` See if you can find a reduced number of features that provides better separation to make predictions.  Say you want to get separation that allows for accuracy of more than 90%, how many principal components are needed to obtain this level of accuracy?  Were you able to substantially reduce the number of features needed in your final model?"
   ]
  },
  {
   "cell_type": "code",
   "execution_count": 15,
   "metadata": {},
   "outputs": [
    {
     "name": "stdout",
     "output_type": "stream",
     "text": [
      "[[111   0  37   9   6  10  29   0   6   1]\n",
      " [  0 209   0   2   1   9   3   5   9   5]\n",
      " [ 35   2  82  29  12  22  30   1  12   3]\n",
      " [ 12   2  31  21  23  27  23  12  27  13]\n",
      " [  5   4  17  23  49  17  14  12  11  26]\n",
      " [  8   8  32  23  14  24  26   5  36  10]\n",
      " [ 28   4  50  21  10  29  38   3  26   2]\n",
      " [  3   6   4   9  36  10   1  94   7  55]\n",
      " [  9   6  26  25  20  30  28  12  38   8]\n",
      " [  2  12   5  19  27   8   4  55   9  67]]\n",
      "0.352234502643\n",
      "[[156   0   8   3   1  10  22   1   8   0]\n",
      " [  0 223   1   3   2   4   7   0   3   0]\n",
      " [ 17   3 120  35   3   5  39   0   5   1]\n",
      " [  3   3  53  60   6  13  29   4  16   4]\n",
      " [  7   0   4   6  93  17   1  12  11  27]\n",
      " [  6   0   8  15  20  59  28   7  35   8]\n",
      " [ 18   8  17  16   2  11 128   0  11   0]\n",
      " [  0   2   0   6  24   8   1 116   6  62]\n",
      " [ 15   4   6  27  30  37  33   0  49   1]\n",
      " [  2   2   1   2  42   5   1  51  11  91]]\n",
      "0.526189332052\n",
      "[[175   0  10   0   3  11   5   0   5   0]\n",
      " [  0 227   1   1   0   5   3   2   4   0]\n",
      " [ 16   1 162  12   5   7  21   0   2   2]\n",
      " [  3   0  21 122   0   8   3   3  29   2]\n",
      " [  3   0   6   1 127   1   7  11   1  21]\n",
      " [  6   0   7  29  13  80   2   5  34  10]\n",
      " [  7   0  24   0   2   0 177   0   1   0]\n",
      " [  5   4   2   0  21   4   0 133  10  46]\n",
      " [ 14   8   7  30   4  45   1   4  89   0]\n",
      " [  3   1   3   1  51   5   1  41   7  95]]\n",
      "0.666506487266\n",
      "[[178   0   9   0   5   6   6   0   5   0]\n",
      " [  0 229   2   1   0   2   2   0   7   0]\n",
      " [ 14   2 177  10   5   6  11   1   2   0]\n",
      " [  3   0  23 123   0  11   1   2  26   2]\n",
      " [  3   0   1   1 127   1   9   6   1  29]\n",
      " [  9   1   8  23   3  93   2   8  35   4]\n",
      " [  3   0  16   0   5   0 186   0   1   0]\n",
      " [  2   3   5   2  13   6   0 171   4  19]\n",
      " [ 14   3   3  19   5  45   3   3 106   1]\n",
      " [  2   1   2   1  52   6   1  25   4 114]]\n",
      "0.722729456992\n",
      "[[176   0   5   0   5  12   8   0   3   0]\n",
      " [  0 231   2   1   0   0   2   0   7   0]\n",
      " [  2   2 201   6   6   1   5   2   3   0]\n",
      " [  1   0  16 129   0  13   3   2  26   1]\n",
      " [  0   0   5   0 130   1   7   6   2  27]\n",
      " [  7   0   3  10   4 149   2   4   5   2]\n",
      " [  5   0   5   1   4   1 194   0   1   0]\n",
      " [  1   2   7   0  13   1   0 180   4  17]\n",
      " [  1   2   6  18   6  14   0   2 152   1]\n",
      " [  1   0   2   1  50   2   1  25   9 117]]\n",
      "0.797212878424\n",
      "[[176   0   4   0   3  13   8   0   5   0]\n",
      " [  0 230   2   2   0   0   2   1   6   0]\n",
      " [  3   3 201   6   5   1   3   2   4   0]\n",
      " [  0   1  20 135   0  10   2   3  19   1]\n",
      " [  0   0   3   0 133   1   3   8   1  29]\n",
      " [  9   1   2  11   5 142   1   4   9   2]\n",
      " [  5   0   5   1   5   0 194   0   1   0]\n",
      " [  1   2   7   0   9   2   1 180   6  17]\n",
      " [  2   2   5  18   3  14   0   2 155   1]\n",
      " [  1   1   0   1  50   1   1  24  10 119]]\n",
      "0.800096107641\n",
      "[[188   0   2   1   0   7   9   0   1   1]\n",
      " [  0 231   2   1   0   1   2   0   6   0]\n",
      " [  1   2 205   5   4   0   3   5   3   0]\n",
      " [  1   0  12 154   0   6   3   0  12   3]\n",
      " [  0   0   2   0 131   1   7   3   2  32]\n",
      " [  7   0   2   6   4 155   2   0   6   4]\n",
      " [  5   0   7   0   3   0 195   0   1   0]\n",
      " [  0   2   5   1   6   0   1 193   4  13]\n",
      " [  2   3   2  11   4  10   0   2 168   0]\n",
      " [  1   0   0   4  48   0   1  20   6 128]]\n",
      "0.839980778472\n",
      "[[188   0   2   1   1   8   7   0   1   1]\n",
      " [  0 230   3   1   0   0   2   0   7   0]\n",
      " [  2   2 205   4   4   1   5   2   3   0]\n",
      " [  1   1  11 156   0   6   0   3  11   2]\n",
      " [  0   0   2   0 133   1   7   2   2  31]\n",
      " [  7   0   2   8   5 153   0   0   7   4]\n",
      " [  4   0   4   0   2   0 200   0   1   0]\n",
      " [  0   1   5   2   6   0   1 192   5  13]\n",
      " [  2   2   2   8   5  12   0   1 170   0]\n",
      " [  1   0   0   2  46   0   1  16   9 133]]\n",
      "0.845747236905\n",
      "[[191   0   3   0   0   5   8   0   1   1]\n",
      " [  0 231   3   0   0   1   2   0   6   0]\n",
      " [  2   2 210   5   2   0   1   3   3   0]\n",
      " [  2   1  13 158   0   5   0   2   9   1]\n",
      " [  0   0   3   0 144   1   6   2   0  22]\n",
      " [  4   0   3  10   2 153   0   0   8   6]\n",
      " [  6   0   2   0   2   0 200   0   1   0]\n",
      " [  0   1   2   2   4   2   1 197   5  11]\n",
      " [  2   2   3  12   4  11   0   1 165   2]\n",
      " [  1   0   1   3  39   1   0  13   8 142]]\n",
      "0.860643921192\n",
      "[[188   0   3   0   0   6   9   1   1   1]\n",
      " [  0 232   3   0   0   1   2   0   5   0]\n",
      " [  1   2 209   3   1   1   2   3   5   1]\n",
      " [  1   0   9 158   0   7   2   1  11   2]\n",
      " [  0   0   0   0 150   1   4   2   0  21]\n",
      " [  7   0   2   9   3 148   0   0  10   7]\n",
      " [  5   0   1   0   3   0 201   0   1   0]\n",
      " [  0   1   3   1   3   1   1 195   6  14]\n",
      " [  2   2   1  10   3  11   0   0 172   1]\n",
      " [  2   1   0   2  32   1   1  17   7 145]]\n",
      "0.864007688611\n",
      "[[191   0   4   0   1   4   7   0   2   0]\n",
      " [  0 230   2   2   0   0   2   0   6   1]\n",
      " [  2   2 208   3   2   0   4   3   4   0]\n",
      " [  2   0  11 156   0  10   1   2   9   0]\n",
      " [  0   0   2   0 148   1   4   2   1  20]\n",
      " [  6   0   3   7   4 153   2   0   6   5]\n",
      " [  4   0   2   0   3   0 200   1   1   0]\n",
      " [  0   1   5   1   3   0   1 194   8  12]\n",
      " [  2   2   3  10   3  12   0   1 167   2]\n",
      " [  1   0   1   1  32   1   0  22   7 143]]\n",
      "0.860163382989\n",
      "[[194   0   3   0   0   3   7   1   1   0]\n",
      " [  0 234   2   0   0   0   2   0   4   1]\n",
      " [  1   2 213   2   2   0   2   3   3   0]\n",
      " [  1   0  10 163   0   4   1   2   9   1]\n",
      " [  0   0   3   0 147   1   6   2   1  18]\n",
      " [  3   0   3  10   3 153   4   0   5   5]\n",
      " [  5   0   1   0   2   0 201   1   1   0]\n",
      " [  1   2   6   1   3   0   1 195   4  12]\n",
      " [  3   2   2   8   2  12   1   0 171   1]\n",
      " [  3   0   1   2  27   1   0  17   7 150]]\n",
      "0.875060067275\n",
      "[[190   0   3   1   0   4   7   2   1   1]\n",
      " [  0 233   2   0   0   1   2   0   5   0]\n",
      " [  2   2 207   6   2   0   2   3   4   0]\n",
      " [  0   0   7 163   0   6   2   2   8   3]\n",
      " [  0   0   4   0 148   1   5   3   0  17]\n",
      " [  3   0   2   7   1 163   1   0   5   4]\n",
      " [  6   0   0   0   2   0 202   0   1   0]\n",
      " [  1   1   5   2   1   0   1 196   4  14]\n",
      " [  4   2   2  14   1  10   0   0 167   2]\n",
      " [  3   1   1   3  32   1   0  16   2 149]]\n",
      "0.873618452667\n",
      "[[189   0   4   0   1   4   8   1   1   1]\n",
      " [  0 234   2   0   0   1   2   0   4   0]\n",
      " [  2   2 206   5   3   1   3   3   3   0]\n",
      " [  1   0   8 164   0   7   1   2   7   1]\n",
      " [  0   0   2   0 158   1   4   1   0  12]\n",
      " [  1   0   2   6   3 165   2   0   4   3]\n",
      " [  3   0   1   1   3   1 201   0   1   0]\n",
      " [  0   2   4   3   2   0   1 197   4  12]\n",
      " [  2   1   1  13   2  10   0   0 171   2]\n",
      " [  2   0   1   3  26   0   0  15   2 159]]\n",
      "0.886112445939\n",
      "[[189   0   3   1   1   4   8   1   1   1]\n",
      " [  0 233   2   0   0   0   2   0   5   1]\n",
      " [  2   2 206   6   3   0   3   3   3   0]\n",
      " [  1   0   7 165   0   5   1   2   9   1]\n",
      " [  0   0   3   0 156   1   4   1   0  13]\n",
      " [  2   0   3   6   1 165   2   0   4   3]\n",
      " [  4   0   1   0   2   1 202   0   1   0]\n",
      " [  0   2   6   2   4   0   0 197   3  11]\n",
      " [  2   2   0  12   1  10   0   0 173   2]\n",
      " [  1   0   1   3  16   0   0  15   1 171]]\n",
      "0.892359442576\n",
      "[[190   0   3   0   1   3   8   2   1   1]\n",
      " [  0 233   2   0   0   1   2   0   5   0]\n",
      " [  3   2 206   8   1   0   1   3   3   1]\n",
      " [  1   0   7 168   0   6   1   2   4   2]\n",
      " [  0   0   2   0 154   1   5   1   2  13]\n",
      " [  2   0   2   8   2 164   0   0   6   2]\n",
      " [  5   0   1   0   3   1 201   0   0   0]\n",
      " [  0   1   5   2   3   0   1 196   4  13]\n",
      " [  0   2   1  13   0  11   0   0 171   4]\n",
      " [  1   0   1   3  20   0   0  15   2 166]]\n",
      "0.888515136953\n",
      "[[191   0   3   0   0   2   8   2   2   1]\n",
      " [  0 233   2   0   0   0   2   0   5   1]\n",
      " [  1   2 206   6   1   0   4   3   4   1]\n",
      " [  0   0   9 166   0   5   0   2   7   2]\n",
      " [  0   0   4   0 154   1   4   2   0  13]\n",
      " [  2   0   4   5   2 163   1   0   6   3]\n",
      " [  5   0   1   0   3   0 201   0   1   0]\n",
      " [  0   2   6   2   3   0   1 196   3  12]\n",
      " [  2   2   4  13   2   8   0   0 168   3]\n",
      " [  2   0   2   1  16   1   0  15   2 169]]\n",
      "0.887554060548\n",
      "[[194   0   1   1   0   2   7   2   1   1]\n",
      " [  0 233   2   0   0   1   2   0   5   0]\n",
      " [  2   2 206   5   3   0   4   3   3   0]\n",
      " [  0   0   9 166   0   4   0   2   6   4]\n",
      " [  0   0   4   0 156   1   5   2   0  10]\n",
      " [  2   0   3   8   2 159   2   0   7   3]\n",
      " [  3   0   1   0   2   0 203   1   1   0]\n",
      " [  1   1   7   1   3   0   0 197   2  13]\n",
      " [  1   2   0  11   0   7   0   0 178   3]\n",
      " [  2   0   2   2  15   0   0  14   2 171]]\n",
      "0.895242671792\n",
      "[[193   0   3   0   1   1   8   1   1   1]\n",
      " [  0 234   2   1   0   0   2   0   3   1]\n",
      " [  2   2 204   7   1   1   3   3   4   1]\n",
      " [  0   0   7 166   0   8   0   1   7   2]\n",
      " [  0   0   4   0 157   1   4   1   0  11]\n",
      " [  2   0   2   8   1 162   1   0   7   3]\n",
      " [  5   0   2   0   2   0 201   0   1   0]\n",
      " [  0   0   5   1   4   0   1 196   4  14]\n",
      " [  2   2   1  13   1   8   0   0 173   2]\n",
      " [  1   0   1   3  15   0   0  15   1 172]]\n",
      "0.892839980778\n",
      "[[194   0   3   1   0   1   6   2   1   1]\n",
      " [  0 234   2   0   0   0   2   0   4   1]\n",
      " [  2   2 207   5   1   1   3   3   3   1]\n",
      " [  0   0   7 166   0   7   1   2   4   4]\n",
      " [  0   0   3   0 156   1   5   2   0  11]\n",
      " [  2   0   3   7   2 163   2   0   3   4]\n",
      " [  4   0   1   0   3   2 201   0   0   0]\n",
      " [  0   1   4   2   5   0   0 195   3  15]\n",
      " [  1   2   1  13   1   6   1   0 175   2]\n",
      " [  2   0   2   3  14   0   0  14   2 171]]\n",
      "0.89476213359\n",
      "[[192   0   4   0   1   1   8   1   2   0]\n",
      " [  0 233   2   0   0   1   2   0   5   0]\n",
      " [  4   2 207   4   2   0   2   4   3   0]\n",
      " [  0   0  10 164   0   6   0   2   7   2]\n",
      " [  0   0   4   0 155   1   4   1   0  13]\n",
      " [  1   0   3   7   2 166   1   0   4   2]\n",
      " [  4   0   1   0   2   2 202   0   0   0]\n",
      " [  1   1   6   1   3   0   0 196   3  14]\n",
      " [  2   1   2  12   1   5   1   0 175   3]\n",
      " [  2   0   1   3  20   1   0  13   1 167]]\n",
      "0.892359442576\n",
      "[[193   0   3   1   0   1   7   1   2   1]\n",
      " [  0 234   2   1   0   0   2   0   3   1]\n",
      " [  2   2 208   3   1   0   5   3   4   0]\n",
      " [  0   0   8 167   0   6   0   2   7   1]\n",
      " [  0   0   5   0 155   1   3   1   0  13]\n",
      " [  1   0   1  10   1 165   0   0   5   3]\n",
      " [  5   0   1   0   1   0 202   1   1   0]\n",
      " [  0   1   6   3   4   0   0 197   2  12]\n",
      " [  1   1   2  11   1   7   0   0 178   1]\n",
      " [  2   0   2   3  19   0   0  13   1 168]]\n",
      "0.897164824604\n",
      "[[194   0   3   0   0   1   7   2   1   1]\n",
      " [  0 233   2   0   0   0   2   0   5   1]\n",
      " [  4   2 206   3   2   0   5   3   3   0]\n",
      " [  0   0   8 169   0   3   1   3   5   2]\n",
      " [  0   0   4   0 152   1   4   1   0  16]\n",
      " [  1   0   3   7   1 167   1   0   3   3]\n",
      " [  5   0   2   0   3   2 199   0   0   0]\n",
      " [  1   0   6   1   4   0   1 196   2  14]\n",
      " [  3   1   2  10   2  10   0   0 172   2]\n",
      " [  3   0   2   2  15   0   0  14   1 171]]\n",
      "0.893320518981\n",
      "[[192   0   3   0   0   2   8   1   1   2]\n",
      " [  0 233   2   2   0   0   2   0   3   1]\n",
      " [  2   3 205   6   2   0   3   3   4   0]\n",
      " [  0   0  10 167   0   5   0   2   6   1]\n",
      " [  0   0   5   0 154   1   2   1   0  15]\n",
      " [  1   0   2   9   2 165   2   0   2   3]\n",
      " [  4   0   1   0   3   2 200   0   1   0]\n",
      " [  0   0   8   1   4   0   0 194   3  15]\n",
      " [  2   1   1  13   2   6   1   0 174   2]\n",
      " [  1   0   1   3  11   0   0  17   1 174]]\n",
      "0.892839980778\n",
      "[[195   0   2   0   1   1   7   1   1   1]\n",
      " [  0 233   2   2   0   0   2   0   3   1]\n",
      " [  1   2 209   3   2   0   4   3   4   0]\n",
      " [  0   0   8 168   0   5   1   2   7   0]\n",
      " [  0   0   5   0 156   1   4   1   0  11]\n",
      " [  1   0   3   6   1 168   1   0   2   4]\n",
      " [  5   0   1   0   2   1 201   0   1   0]\n",
      " [  0   1   6   1   5   0   1 198   1  12]\n",
      " [  1   1   0   9   1   6   1   1 181   1]\n",
      " [  0   0   1   2  15   0   0  13   2 175]]\n",
      "0.905333974051\n",
      "with 26 components, a random forest achieved an accuracy of 0.9053339740509371\n"
     ]
    }
   ],
   "source": [
    "for comp in range(2, 100):\n",
    "    pca, X_pca = do_pca(comp, X)\n",
    "    acc = fit_random_forest_classifier(X_pca, y)\n",
    "    if acc > 0.90: \n",
    "        print('with {} components, a random forest achieved an accuracy of {}'.format(comp, acc))\n",
    "        break \n"
   ]
  },
  {
   "cell_type": "markdown",
   "metadata": {},
   "source": [
    "`9.` It is possible that extra features in the dataset even lead to overfitting or the [curse of dimensionality](https://stats.stackexchange.com/questions/65379/machine-learning-curse-of-dimensionality-explained).  Do you have evidence of this happening for this dataset?  Can you support your evidence with a visual or table?  To avoid printing out all of the metric results, I created another function called `fit_random_forest_classifier2`.  I ran through a significant number of components to create the visual for the solution, but I strongly recommend you look in the range below 100 principal components!"
   ]
  },
  {
   "cell_type": "code",
   "execution_count": 17,
   "metadata": {},
   "outputs": [],
   "source": [
    "accs = []\n",
    "comps = []\n",
    "for comp in range(2,100):\n",
    "    comps.append(comp)\n",
    "    pca, X_pca = do_pca(comp, X)\n",
    "    acc = fit_random_forest_classifier2(X_pca, y)\n",
    "    accs.append(acc)"
   ]
  },
  {
   "cell_type": "code",
   "execution_count": 18,
   "metadata": {},
   "outputs": [
    {
     "data": {
      "image/png": "[encoded data removed]",
      "text/plain": [
       "<matplotlib.figure.Figure at 0x7ff9b40f8588>"
      ]
     },
     "metadata": {
      "needs_background": "light"
     },
     "output_type": "display_data"
    }
   ],
   "source": [
    "plt.plot(comps, accs, 'bo');\n",
    "plt.xlabel('Number of Components');\n",
    "plt.ylabel('Accuracy');\n",
    "plt.title('Number of Components by Accuracy');"
   ]
  },
  {
   "cell_type": "code",
   "execution_count": 19,
   "metadata": {},
   "outputs": [
    {
     "data": {
      "text/plain": [
       "(0.91110043248438255, 43)"
      ]
     },
     "execution_count": 19,
     "metadata": {},
     "output_type": "execute_result"
    }
   ],
   "source": [
    "np.max(accs), comps[np.where(accs == np.max(accs))[0][0]]"
   ]
  },
  {
   "cell_type": "markdown",
   "metadata": {},
   "source": [
    " "
   ]
  },
  {
   "cell_type": "code",
   "execution_count": null,
   "metadata": {
    "collapsed": true
   },
   "outputs": [],
   "source": []
  }
 ],
 "metadata": {
  "kernelspec": {
   "display_name": "Python 3",
   "language": "python",
   "name": "python3"
  },
  "language_info": {
   "codemirror_mode": {
    "name": "ipython",
    "version": 3
   },
   "file_extension": ".py",
   "mimetype": "text/x-python",
   "name": "python",
   "nbconvert_exporter": "python",
   "pygments_lexer": "ipython3",
   "version": "3.6.3"
  }
 },
 "nbformat": 4,
 "nbformat_minor": 2
}
